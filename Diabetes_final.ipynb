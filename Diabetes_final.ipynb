{
  "nbformat": 4,
  "nbformat_minor": 0,
  "metadata": {
    "colab": {
      "name": "Diabetes_final.ipynb",
      "version": "0.3.2",
      "provenance": [],
      "collapsed_sections": []
    },
    "kernelspec": {
      "name": "python3",
      "display_name": "Python 3"
    }
  },
  "cells": [
    {
      "cell_type": "code",
      "metadata": {
        "id": "aVsEHGC15-RO",
        "colab_type": "code",
        "outputId": "aeed6529-2574-4062-fdc6-b8850d2549c1",
        "colab": {
          "base_uri": "https://localhost:8080/",
          "height": 272
        }
      },
      "source": [
        "import pandas as pd                           # Pandas is a open source data analysis library, easy-to-use data structures and data analysis tools.\n",
        "import numpy as np                            # Numpy has mathematical functions, adding support for large, multi-dimensional arrays and matrices \n",
        "import matplotlib.pyplot as plt               # Plotting library represents 2d graphiics in python\n",
        "import seaborn as sns                         # Seaborn is a Python data visualization library based on matplotlib(Statistical)\n",
        "\n",
        "data = pd.read_csv('https://raw.githubusercontent.com/Premnath1/Diabetes-Prediction/master/diabetes.csv')\n",
        "\n",
        "dt = pd.DataFrame(data)                       # Data is aligned into tabular manner\n",
        "\n",
        "print(dt.info())                              #summary of the dataframe"
      ],
      "execution_count": 87,
      "outputs": [
        {
          "output_type": "stream",
          "text": [
            "<class 'pandas.core.frame.DataFrame'>\n",
            "RangeIndex: 768 entries, 0 to 767\n",
            "Data columns (total 9 columns):\n",
            "Pregnancies                 768 non-null int64\n",
            "Glucose                     768 non-null int64\n",
            "BloodPressure               768 non-null int64\n",
            "SkinThickness               768 non-null int64\n",
            "Insulin                     768 non-null int64\n",
            "BMI                         768 non-null float64\n",
            "DiabetesPedigreeFunction    768 non-null float64\n",
            "Age                         768 non-null int64\n",
            "Outcome                     768 non-null int64\n",
            "dtypes: float64(2), int64(7)\n",
            "memory usage: 54.1 KB\n",
            "None\n"
          ],
          "name": "stdout"
        }
      ]
    },
    {
      "cell_type": "code",
      "metadata": {
        "id": "-Ti7I3XRmSMm",
        "colab_type": "code",
        "outputId": "6ec01841-9aaa-46de-dca8-7f7d8d3832be",
        "colab": {
          "base_uri": "https://localhost:8080/",
          "height": 204
        }
      },
      "source": [
        "print(dt.describe())"
      ],
      "execution_count": 88,
      "outputs": [
        {
          "output_type": "stream",
          "text": [
            "       Pregnancies     Glucose  ...         Age     Outcome\n",
            "count   768.000000  768.000000  ...  768.000000  768.000000\n",
            "mean      3.845052  120.894531  ...   33.240885    0.348958\n",
            "std       3.369578   31.972618  ...   11.760232    0.476951\n",
            "min       0.000000    0.000000  ...   21.000000    0.000000\n",
            "25%       1.000000   99.000000  ...   24.000000    0.000000\n",
            "50%       3.000000  117.000000  ...   29.000000    0.000000\n",
            "75%       6.000000  140.250000  ...   41.000000    1.000000\n",
            "max      17.000000  199.000000  ...   81.000000    1.000000\n",
            "\n",
            "[8 rows x 9 columns]\n"
          ],
          "name": "stdout"
        }
      ]
    },
    {
      "cell_type": "code",
      "metadata": {
        "id": "r6YoeBGcnxQI",
        "colab_type": "code",
        "outputId": "b6424b03-ba5c-4b8e-ef41-2e4864ce8e26",
        "colab": {
          "base_uri": "https://localhost:8080/",
          "height": 408
        }
      },
      "source": [
        "# Heatmap - gives coloured representation of data\n",
        "# corr() - gives the pair-wise correlation of dataframe\n",
        "# cmap - color of graph should be mentioned here\n",
        "\n",
        "sns.heatmap(dt.corr(),cmap = 'YlGnBu')"
      ],
      "execution_count": 89,
      "outputs": [
        {
          "output_type": "execute_result",
          "data": {
            "text/plain": [
              "<matplotlib.axes._subplots.AxesSubplot at 0x7fb23dee9748>"
            ]
          },
          "metadata": {
            "tags": []
          },
          "execution_count": 89
        },
        {
          "output_type": "display_data",
          "data": {
            "image/png": "[encoded data removed]",
            "text/plain": [
              "<Figure size 432x288 with 2 Axes>"
            ]
          },
          "metadata": {
            "tags": []
          }
        }
      ]
    },
    {
      "cell_type": "code",
      "metadata": {
        "id": "W5c9GX6WpZGN",
        "colab_type": "code",
        "outputId": "017e23d2-945f-4d2c-8a30-78e0471260cf",
        "colab": {
          "base_uri": "https://localhost:8080/",
          "height": 300
        }
      },
      "source": [
        "dt.plot.scatter(x = \"Pregnancies\", y = \"Glucose\")"
      ],
      "execution_count": 90,
      "outputs": [
        {
          "output_type": "execute_result",
          "data": {
            "text/plain": [
              "<matplotlib.axes._subplots.AxesSubplot at 0x7fb23de5c160>"
            ]
          },
          "metadata": {
            "tags": []
          },
          "execution_count": 90
        },
        {
          "output_type": "display_data",
          "data": {
            "image/png": "[encoded data removed]",
            "text/plain": [
              "<Figure size 432x288 with 1 Axes>"
            ]
          },
          "metadata": {
            "tags": []
          }
        }
      ]
    },
    {
      "cell_type": "code",
      "metadata": {
        "id": "bGOZxfYwN1yz",
        "colab_type": "code",
        "outputId": "b0cc10b5-bcc0-44da-ef57-cf3de1b03fde",
        "colab": {
          "base_uri": "https://localhost:8080/",
          "height": 300
        }
      },
      "source": [
        "dt.plot.scatter(x='BloodPressure',y='SkinThickness')"
      ],
      "execution_count": 91,
      "outputs": [
        {
          "output_type": "execute_result",
          "data": {
            "text/plain": [
              "<matplotlib.axes._subplots.AxesSubplot at 0x7fb23ddbef98>"
            ]
          },
          "metadata": {
            "tags": []
          },
          "execution_count": 91
        },
        {
          "output_type": "display_data",
          "data": {
            "image/png": "[encoded data removed]",
            "text/plain": [
              "<Figure size 432x288 with 1 Axes>"
            ]
          },
          "metadata": {
            "tags": []
          }
        }
      ]
    },
    {
      "cell_type": "code",
      "metadata": {
        "id": "3plB2eCcN5-j",
        "colab_type": "code",
        "outputId": "344e2bbf-47aa-43bb-9a81-b1d230064bd7",
        "colab": {
          "base_uri": "https://localhost:8080/",
          "height": 300
        }
      },
      "source": [
        "dt.plot.scatter(x='Insulin',y='BMI')"
      ],
      "execution_count": 92,
      "outputs": [
        {
          "output_type": "execute_result",
          "data": {
            "text/plain": [
              "<matplotlib.axes._subplots.AxesSubplot at 0x7fb23dda0940>"
            ]
          },
          "metadata": {
            "tags": []
          },
          "execution_count": 92
        },
        {
          "output_type": "display_data",
          "data": {
            "image/png": "[encoded data removed]",
            "text/plain": [
              "<Figure size 432x288 with 1 Axes>"
            ]
          },
          "metadata": {
            "tags": []
          }
        }
      ]
    },
    {
      "cell_type": "code",
      "metadata": {
        "id": "njXYnlrlOCfL",
        "colab_type": "code",
        "outputId": "9acebf29-2112-4fa8-a65a-8538dac83ade",
        "colab": {
          "base_uri": "https://localhost:8080/",
          "height": 300
        }
      },
      "source": [
        "dt.plot.scatter(x='DiabetesPedigreeFunction',y='Age')"
      ],
      "execution_count": 93,
      "outputs": [
        {
          "output_type": "execute_result",
          "data": {
            "text/plain": [
              "<matplotlib.axes._subplots.AxesSubplot at 0x7fb23dcf9668>"
            ]
          },
          "metadata": {
            "tags": []
          },
          "execution_count": 93
        },
        {
          "output_type": "display_data",
          "data": {
            "image/png": "[encoded data removed]",
            "text/plain": [
              "<Figure size 432x288 with 1 Axes>"
            ]
          },
          "metadata": {
            "tags": []
          }
        }
      ]
    },
    {
      "cell_type": "code",
      "metadata": {
        "id": "4GWEt7mCOusS",
        "colab_type": "code",
        "outputId": "b3af6e5d-3427-4346-e446-4e9ce3a2cbda",
        "colab": {
          "base_uri": "https://localhost:8080/",
          "height": 272
        }
      },
      "source": [
        "# Preprocessing - raw data into clean dataset\n",
        "# axis : {0 or ‘rows’, 1 or ‘columns’}\n",
        "\n",
        "dt=dt.drop(dt.index[dt.Pregnancies>=11.5],axis=0)\n",
        "dt=dt.drop(dt.index[dt.Glucose>=185],axis=0)\n",
        "dt=dt.drop(dt.index[dt.BloodPressure>=92],axis=0)\n",
        "dt=dt.drop(dt.index[dt.BloodPressure<=37],axis=0)\n",
        "dt=dt.drop(dt.index[dt.BMI>=45],axis=0)\n",
        "dt=dt.drop(dt.index[dt.DiabetesPedigreeFunction>=1.2],axis=0)\n",
        "\n",
        "print(dt.info())"
      ],
      "execution_count": 94,
      "outputs": [
        {
          "output_type": "stream",
          "text": [
            "<class 'pandas.core.frame.DataFrame'>\n",
            "Int64Index: 594 entries, 0 to 767\n",
            "Data columns (total 9 columns):\n",
            "Pregnancies                 594 non-null int64\n",
            "Glucose                     594 non-null int64\n",
            "BloodPressure               594 non-null int64\n",
            "SkinThickness               594 non-null int64\n",
            "Insulin                     594 non-null int64\n",
            "BMI                         594 non-null float64\n",
            "DiabetesPedigreeFunction    594 non-null float64\n",
            "Age                         594 non-null int64\n",
            "Outcome                     594 non-null int64\n",
            "dtypes: float64(2), int64(7)\n",
            "memory usage: 46.4 KB\n",
            "None\n"
          ],
          "name": "stdout"
        }
      ]
    },
    {
      "cell_type": "code",
      "metadata": {
        "id": "NBuWOGKtfNFV",
        "colab_type": "code",
        "outputId": "fab546b4-8bf6-44a5-acaa-a003cf6e1808",
        "colab": {
          "base_uri": "https://localhost:8080/",
          "height": 476
        }
      },
      "source": [
        "#h={'Outcome':{1:'Yes',0:'No'}}\n",
        "print(dt.head(10))\n",
        "\n",
        "x = pd.DataFrame(dt)\n",
        "x = x.drop(['Outcome'],axis=1)\n",
        "print(x.info())\n",
        "\n",
        "y = dt['Outcome']\n",
        "y.head(10)\n",
        "\n",
        "# Train data = 80% , Test data = 20 %\n",
        "from sklearn.model_selection import train_test_split\n",
        "X_train,X_test,y_train,y_test = train_test_split(x,y,test_size=0.20,random_state=0)"
      ],
      "execution_count": 95,
      "outputs": [
        {
          "output_type": "stream",
          "text": [
            "    Pregnancies  Glucose  BloodPressure  ...  DiabetesPedigreeFunction  Age  Outcome\n",
            "0             6      148             72  ...                     0.627   50        1\n",
            "1             1       85             66  ...                     0.351   31        0\n",
            "2             8      183             64  ...                     0.672   32        1\n",
            "3             1       89             66  ...                     0.167   21        0\n",
            "5             5      116             74  ...                     0.201   30        0\n",
            "6             3       78             50  ...                     0.248   26        1\n",
            "11           10      168             74  ...                     0.537   34        1\n",
            "14            5      166             72  ...                     0.587   51        1\n",
            "17            7      107             74  ...                     0.254   31        1\n",
            "19            1      115             70  ...                     0.529   32        1\n",
            "\n",
            "[10 rows x 9 columns]\n",
            "<class 'pandas.core.frame.DataFrame'>\n",
            "Int64Index: 594 entries, 0 to 767\n",
            "Data columns (total 8 columns):\n",
            "Pregnancies                 594 non-null int64\n",
            "Glucose                     594 non-null int64\n",
            "BloodPressure               594 non-null int64\n",
            "SkinThickness               594 non-null int64\n",
            "Insulin                     594 non-null int64\n",
            "BMI                         594 non-null float64\n",
            "DiabetesPedigreeFunction    594 non-null float64\n",
            "Age                         594 non-null int64\n",
            "dtypes: float64(2), int64(6)\n",
            "memory usage: 41.8 KB\n",
            "None\n"
          ],
          "name": "stdout"
        }
      ]
    },
    {
      "cell_type": "code",
      "metadata": {
        "id": "RMgGu6X2hhrT",
        "colab_type": "code",
        "colab": {
          "base_uri": "https://localhost:8080/",
          "height": 85
        },
        "outputId": "a27d0d5f-6f2c-41ab-b244-93507888ae06"
      },
      "source": [
        "from sklearn.naive_bayes import GaussianNB\n",
        "classifier = GaussianNB()\n",
        "classifier.fit(X_train,y_train)\n",
        "y_p = classifier.predict(X_test)\n",
        "from sklearn.metrics import accuracy_score\n",
        "acc = accuracy_score(y_test, y_p)\n",
        "print(acc)\n",
        "\n",
        "\n",
        "from sklearn.metrics import confusion_matrix\n",
        "cm = confusion_matrix(y_test, y_p)\n",
        "labels =['Pr 0', 'Pr 1']\n",
        "print(*labels)\n",
        "for line in cm:\n",
        "  print(*line)"
      ],
      "execution_count": 96,
      "outputs": [
        {
          "output_type": "stream",
          "text": [
            "0.7563025210084033\n",
            "Pr 0 Pr 1\n",
            "73 15\n",
            "14 17\n"
          ],
          "name": "stdout"
        }
      ]
    },
    {
      "cell_type": "code",
      "metadata": {
        "id": "w74n4ej1hfNs",
        "colab_type": "code",
        "colab": {
          "base_uri": "https://localhost:8080/",
          "height": 34
        },
        "outputId": "6f1e46d3-61fd-486c-eacb-a7e91239b74e"
      },
      "source": [
        "from sklearn.neighbors import KNeighborsClassifier\n",
        "classifier = KNeighborsClassifier(n_neighbors = 5, metric = 'minkowski', p = 2)\n",
        "classifier.fit(X_train,y_train)\n",
        "y_p = classifier.predict(X_test)\n",
        "from sklearn.metrics import accuracy_score\n",
        "acc = accuracy_score(y_test, y_p)\n",
        "print(acc)"
      ],
      "execution_count": 97,
      "outputs": [
        {
          "output_type": "stream",
          "text": [
            "0.7647058823529411\n"
          ],
          "name": "stdout"
        }
      ]
    },
    {
      "cell_type": "code",
      "metadata": {
        "id": "le-SDRNCiV2w",
        "colab_type": "code",
        "colab": {
          "base_uri": "https://localhost:8080/",
          "height": 34
        },
        "outputId": "7fc04c1f-d8c0-49e0-b630-2b79d653afba"
      },
      "source": [
        "from sklearn.tree import DecisionTreeClassifier\n",
        "classifier = DecisionTreeClassifier(random_state = 0)\n",
        "classifier.fit(X_train,y_train)\n",
        "y_p = classifier.predict(X_test)\n",
        "from sklearn.metrics import accuracy_score\n",
        "acc = accuracy_score(y_test, y_p)\n",
        "print(acc)\n"
      ],
      "execution_count": 98,
      "outputs": [
        {
          "output_type": "stream",
          "text": [
            "0.773109243697479\n"
          ],
          "name": "stdout"
        }
      ]
    },
    {
      "cell_type": "code",
      "metadata": {
        "id": "nvlDqGiTi6B4",
        "colab_type": "code",
        "colab": {
          "base_uri": "https://localhost:8080/",
          "height": 34
        },
        "outputId": "56c5d116-6cbf-4106-f4ab-dab853777d8e"
      },
      "source": [
        "from sklearn.ensemble import RandomForestClassifier\n",
        "classifier = RandomForestClassifier(n_estimators = 10, criterion = 'entropy', random_state = 0)\n",
        "classifier.fit(X_train,y_train)\n",
        "y_p = classifier.predict(X_test)\n",
        "from sklearn.metrics import accuracy_score\n",
        "acc = accuracy_score(y_test, y_p)\n",
        "print(acc)"
      ],
      "execution_count": 99,
      "outputs": [
        {
          "output_type": "stream",
          "text": [
            "0.7647058823529411\n"
          ],
          "name": "stdout"
        }
      ]
    },
    {
      "cell_type": "code",
      "metadata": {
        "id": "amIP75c0i_sX",
        "colab_type": "code",
        "colab": {
          "base_uri": "https://localhost:8080/",
          "height": 105
        },
        "outputId": "341dc1e2-a9da-43cc-a2ac-68d1e67b083d"
      },
      "source": [
        "from sklearn.linear_model import LogisticRegression\n",
        "classifier = LogisticRegression()\n",
        "classifier.fit(X_train,y_train)\n",
        "y_p = classifier.predict(X_test)\n",
        "from sklearn.metrics import accuracy_score\n",
        "acc = accuracy_score(y_test, y_p)\n",
        "print(acc)\n",
        "\n",
        "classifier.predict_proba([[3,78,50,32,88,31.0,0.248,26]])"
      ],
      "execution_count": 100,
      "outputs": [
        {
          "output_type": "stream",
          "text": [
            "0.7815126050420168\n"
          ],
          "name": "stdout"
        },
        {
          "output_type": "stream",
          "text": [
            "/usr/local/lib/python3.6/dist-packages/sklearn/linear_model/logistic.py:432: FutureWarning: Default solver will be changed to 'lbfgs' in 0.22. Specify a solver to silence this warning.\n",
            "  FutureWarning)\n"
          ],
          "name": "stderr"
        },
        {
          "output_type": "execute_result",
          "data": {
            "text/plain": [
              "array([[0.85841331, 0.14158669]])"
            ]
          },
          "metadata": {
            "tags": []
          },
          "execution_count": 100
        }
      ]
    },
    {
      "cell_type": "code",
      "metadata": {
        "id": "WB5qSu8XjA2_",
        "colab_type": "code",
        "colab": {
          "base_uri": "https://localhost:8080/",
          "height": 102
        },
        "outputId": "71010710-1076-4128-99ec-cb0936e552b9"
      },
      "source": [
        "from sklearn.ensemble import GradientBoostingClassifier\n",
        "classifier = GradientBoostingClassifier()\n",
        "classifier.fit(X_train,y_train)\n",
        "y_p=classifier.predict(X_test)\n",
        "from sklearn.metrics import accuracy_score\n",
        "acc = accuracy_score(y_test, y_p)\n",
        "print(acc)\n",
        "\n",
        "from sklearn.metrics import confusion_matrix\n",
        "cm = confusion_matrix(y_test, y_p)\n",
        "labels =['Pr 0', 'Pr 1']\n",
        "print(*labels)\n",
        "for line in cm:\n",
        "  print(*line)\n",
        "  \n",
        "# From the following Algorithms we found that GradientBoostingClassifier has more Accuracy\n",
        "List = [[3.0,78.0,50.0,32.0,88.0,31.0,0.248,26.0]]\n",
        "k = classifier.predict(List)\n",
        "print(k)\n"
      ],
      "execution_count": 102,
      "outputs": [
        {
          "output_type": "stream",
          "text": [
            "0.7983193277310925\n",
            "Pr 0 Pr 1\n",
            "78 10\n",
            "14 17\n",
            "[1]\n"
          ],
          "name": "stdout"
        }
      ]
    }
  ]
}